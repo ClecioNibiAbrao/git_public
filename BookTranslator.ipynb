{
 "cells": [
  {
   "cell_type": "code",
   "execution_count": null,
   "id": "d8e74562-4992-4aac-8b23-89ca15e06ef2",
   "metadata": {},
   "outputs": [],
   "source": [
    "from gtts import gTTS\n",
    "from datetime import datetime\n",
    "import os\n",
    "import time\n",
    "from googletrans import Translator\n",
    "import numpy as np\n",
    "\n",
    "\n",
    "# activate Translator\n",
    "translator = Translator()"
   ]
  },
  {
   "cell_type": "markdown",
   "id": "c5c0ee04-0541-44f5-b477-9fa5eec5482e",
   "metadata": {},
   "source": [
    " "
   ]
  },
  {
   "cell_type": "markdown",
   "id": "c54a8596-9136-4f7e-adde-e194c4c5e307",
   "metadata": {},
   "source": [
    "# PRIMEIRA PARTE: txt PT original para MP3"
   ]
  },
  {
   "cell_type": "code",
   "execution_count": null,
   "id": "18d69cca-5295-4a09-aa95-02a112a77940",
   "metadata": {},
   "outputs": [],
   "source": [
    "# coloque a listagem dos arquivos em TXT a serem lidos\n",
    "# exemplo: ['_parte1_cap10','_parte1_cap11','_parte1_cap12','_parte1_cap13','_parte1_cap14','_parte1_cap15']\n",
    "caps_listPT = []"
   ]
  },
  {
   "cell_type": "code",
   "execution_count": null,
   "id": "ae3c147a-9500-48cf-b2b1-56f14e370db3",
   "metadata": {
    "tags": []
   },
   "outputs": [],
   "source": [
    "#coloque abaixo o endereco dos arquivos iniciais (path_source) e para onde eles vão (path_out)\n",
    "#exemplo: r'F:\\Arquivos\\MeuLivro\\SOURCE'\n",
    "path_source = \n",
    "path_out = \n",
    "\n",
    "# abaixo será rodado um FOR com print a cada arquivo preparado\n",
    "# necessariamente ele precisa de um tempo de 600 segundos entre uma execução e outra para que a API não caia\n",
    "# caso haja falha na metade do caminho, autalize caps_listPT com o nome dos arquivos que faltam e rode esta célula novamente\n",
    "for i in caps_listPT:\n",
    "    print('INÍCIO PT mp3: ',i, ' >> ', datetime.now().strftime(\"%d/%m/%Y %H:%M:%S\"))\n",
    "    with open(path_source+'\\\\'+i+'.txt', encoding='utf-8') as f:\n",
    "        contents = f.read()\n",
    "        contents = contents.lower()\n",
    "    tts = gTTS(text=contents, tld='com', lang='pt-BR',slow=False)\n",
    "    tts.save(path_out+'\\\\'+'PT'+i+'.mp3')\n",
    "    print('FIM PT mp3: ',i,' >> ',datetime.now().strftime(\"%d/%m/%Y %H:%M:%S\"))\n",
    "    time.sleep(600)"
   ]
  },
  {
   "cell_type": "markdown",
   "id": "96e7c7ce-9a39-4f69-aeec-93fed7dc8675",
   "metadata": {},
   "source": [
    " "
   ]
  },
  {
   "cell_type": "markdown",
   "id": "1727f17a-d7a8-4618-a0b5-33d427680e7a",
   "metadata": {},
   "source": [
    "# SEGUNDA PARTE: txt PT original para txt EN"
   ]
  },
  {
   "cell_type": "code",
   "execution_count": null,
   "id": "78dd4389-866a-4f78-aba4-d4400256ccf8",
   "metadata": {
    "tags": []
   },
   "outputs": [],
   "source": [
    "# listagem dos arquivos em TXT a serem traduzidos para inglês\n",
    "# exemplo: caps_list = ['_parte1_cap04','_parte1_cap05']\n",
    "caps_list = []"
   ]
  },
  {
   "cell_type": "code",
   "execution_count": null,
   "id": "5607172e-5059-4cb6-ba32-0d9a771b8b69",
   "metadata": {
    "tags": []
   },
   "outputs": [],
   "source": [
    "%%time\n",
    "\n",
    "# endereço da origem e destino dos arquivos\n",
    "# exemplo: path_source = r'F:\\Arq1\\Arq2\\Arq3\\SOURCE'\n",
    "# exemplo: path_out = r'F:\\Arq1\\Arq2\\Arq3\\OUTPUT'\n",
    "path_source = \n",
    "path_out =\n",
    "\n",
    "# irá fazer cada arquivo em pedaços... Mesma lógica, se falhar, atualize a listagem acima e continue de onde falhou\n",
    "for i in caps_list:\n",
    "    print('INI: ',i, ' @ ', datetime.now().strftime(\"%d/%m/%Y %H:%M:%S\"))\n",
    "    for num in range(0,len(caps_list)):\n",
    "        nums = num + 1\n",
    "        with open(path_source+'\\\\'+i+'.txt', encoding='utf-8') as f:\n",
    "            contents = f.read()\n",
    "            contents = contents.lower()\n",
    "            lista_suporte = contents.split(sep=\".\")\n",
    "            lista_suporte = [i.replace('\\n', '') for i in lista_suporte]\n",
    "            nums = num +1\n",
    "            y = []\n",
    "            for x in range(0,len(lista_suporte)):\n",
    "                try:\n",
    "                    var = translator.translate(text=lista_suporte[x], src='pt', dest='en').text\n",
    "                    var = str(var)\n",
    "                    y.append(var)\n",
    "                    y.append(\".\")\n",
    "                except:\n",
    "                    pass\n",
    "            file = open(path_out+'\\\\'+'EN'+i+'.txt','w')\n",
    "            for ii in range(0,len(y)):\n",
    "                file.write(y[ii] +'\\n')\n",
    "            file.close()"
   ]
  },
  {
   "cell_type": "markdown",
   "id": "be873186-ca31-4569-a05f-974e8ad4ecb7",
   "metadata": {},
   "source": [
    " "
   ]
  },
  {
   "cell_type": "markdown",
   "id": "22dec265-6c97-4a6d-a493-25e9e2243dc1",
   "metadata": {},
   "source": [
    "# TERCEIRA PARTE: txt EN para mp3 EN"
   ]
  },
  {
   "cell_type": "code",
   "execution_count": null,
   "id": "b2d489fa-cce7-4c42-827e-ab69b139c31d",
   "metadata": {
    "tags": []
   },
   "outputs": [],
   "source": [
    "caps_listEN = []"
   ]
  },
  {
   "cell_type": "code",
   "execution_count": null,
   "id": "bab7ab7a-7d01-4784-a5f3-f923f903b9d3",
   "metadata": {
    "tags": []
   },
   "outputs": [],
   "source": [
    "# não esqueça de colocar r' na frente do endereço completo para indicar caminho da leitura dos arquivos\n",
    "path_source_EN = \n",
    "path_out_MP3 = \n",
    "\n",
    "for i in caps_listEN:\n",
    "    print('INÍCIO EN: ',i, ' >> ', datetime.now().strftime(\"%d/%m/%Y %H:%M:%S\"))\n",
    "    with open(path_source_EN+'\\\\'+i+'.txt', encoding='unicode_escape') as f:\n",
    "        contents = f.read()\n",
    "        contents = contents.lower()\n",
    "    tts = gTTS(text=contents, tld='com', lang='en',slow=False)\n",
    "    tts.save(path_out_MP3+'\\\\'+i+'.mp3')\n",
    "    print('FIM EN: ',i,' >> ',datetime.now().strftime(\"%d/%m/%Y %H:%M:%S\"))\n",
    "    time.sleep(600)"
   ]
  },
  {
   "cell_type": "markdown",
   "id": "1a1b4756-6134-40f6-80f5-c72b6322da6d",
   "metadata": {
    "tags": []
   },
   "source": [
    "# QUARTA PARTE: EN para TXT línguas NÃO SIMBÓLICAS"
   ]
  },
  {
   "cell_type": "code",
   "execution_count": null,
   "id": "9868cfbd-fb22-4f39-b069-3f2daf937e45",
   "metadata": {
    "tags": []
   },
   "outputs": [],
   "source": [
    "# linguas disponíveis: https://cloud.google.com/translate/docs/languages\n",
    "# 40 em não simbólico\n",
    "# alterar esta listagem somente se quiser não traduzir para uma lingua dessas aqui\n",
    "# nao me recordo de ter retirado as linguagens que não funcional (eram umas 5 ou 6), verifique os arquivos após execução da tradução\n",
    "\n",
    "dic_linguas={'Africâner':'af','Albanês':'sq','Basco':'eu','Catalão':'ca','Cebuano':'ceb','Córsico':'co','Dinamarquês':'da','Holandês':'nl',\n",
    "             'Inglês':'en','Estoniano':'et','Finlandês':'fi','Francês':'fr','Frísio':'fy','Galego':'gl','Alemão':'de','Crioulo haitiano':'ht','Hmong':'hmn'\n",
    "             ,'Islandês':'is','Indonésio':'id','Irlandês':'ga','Italian':'it','Latim':'la','Luxemburguês':'lb','Malgaxe':'mg','Malaio':'ms'\n",
    "             ,'Norueguês':'no','Nianja':'ny','Gaélico escocês':'gd','Xona':'sn','Somali':'so','Espanhol':'es','Sundanês':'su'\n",
    "             ,'Suaíli':'sw','Sueco':'sv','Tagalo':'tl','Usbeque':'uz','Xosa':'xh','Zulu':'zu'}"
   ]
  },
  {
   "cell_type": "code",
   "execution_count": null,
   "id": "b1ce2788-7202-45d3-8239-a20935a57375",
   "metadata": {
    "tags": []
   },
   "outputs": [],
   "source": [
    "# capítulos em inglês a serem convertidos\n",
    "capsEN = []"
   ]
  },
  {
   "cell_type": "code",
   "execution_count": null,
   "id": "755ec5f2-a76c-4a7d-8876-d4cc9b23c27d",
   "metadata": {
    "tags": []
   },
   "outputs": [],
   "source": [
    "%%time\n",
    "# conversor de EN em txt para línguas não simbólicas em TXT\n",
    "# aqui o endereço SOURCE é dos arquivos em INGLES.... \n",
    "#No meu caso, deixo esta célula com endereços iguais para SOURCE e OUT\n",
    "\n",
    "path_source = \n",
    "path_out = \n",
    "for key in dic_linguas:\n",
    "    try:\n",
    "        for i in capsEN:\n",
    "            print('INI: ',i, ' @ ', datetime.now().strftime(\"%d/%m/%Y %H:%M:%S\"))\n",
    "            with open(path_source+'\\\\'+i+'.txt') as f:\n",
    "                contents = f.read()\n",
    "                contents = contents.lower()\n",
    "                lista_suporte = contents.split(sep=\".\")\n",
    "                lista_suporte = [i.replace('\\n', '') for i in lista_suporte]\n",
    "                #print(lista_suporte[0:2])\n",
    "                y = []\n",
    "                for x in range(0,len(lista_suporte)):\n",
    "                    try:\n",
    "                        var = translator.translate(text=lista_suporte[x], src='en', dest=dic_linguas[key]).text\n",
    "                        var = str(var)\n",
    "                        y.append(var)\n",
    "                        y.append(\".\")\n",
    "                    except:\n",
    "                        pass\n",
    "                file = open(path_out+'\\\\'+(dic_linguas[key]).upper()+i[2:]+'.txt','w')\n",
    "                for ii in range(0,len(y)):\n",
    "                    file.write(y[ii] +'\\n')\n",
    "                file.close()\n",
    "                print(key + \" \" + dic_linguas[key].upper() + \"feito.\")\n",
    "    except:\n",
    "        print(key + \" \" + dic_linguas[key].upper() + \" NOP!!!!\")\n",
    "        pass"
   ]
  },
  {
   "cell_type": "markdown",
   "id": "3d395605-618d-4b9e-95fe-5c047d99f347",
   "metadata": {},
   "source": [
    " "
   ]
  },
  {
   "cell_type": "markdown",
   "id": "77a7ec24-15ca-4574-94ac-813c07f7b3f3",
   "metadata": {},
   "source": [
    "# QUINTA PARTE: mp3 para a listagem de línguas NÃO SIMBÓLICAS"
   ]
  },
  {
   "cell_type": "code",
   "execution_count": null,
   "id": "f9dcaede-84de-4aae-a653-33154107ce09",
   "metadata": {},
   "outputs": [],
   "source": [
    "# listagem das línguas convertidas e gravadas\n",
    "# a listagem arr abaixo é para separar as línguas que existem no folder\n",
    "# colocar ao mesmo endereço no qual os arquivos estão localizados (aqui não precisa do r' no começo da string)\n",
    "# exemplo: arr = os.listdir('F:\\\\Arq1\\\\Arq2\\\\Arq3\\\\OUTPUT\\\\')\n",
    "\n",
    "arr = os.listdir('')\n",
    "list_full =[]\n",
    "for x in arr:\n",
    "    list_full.append(x)\n",
    "list_full = list(set(list_full))\n",
    "list_full.sort()"
   ]
  },
  {
   "cell_type": "code",
   "execution_count": null,
   "id": "52f8d252-09e9-4dd7-8b8d-890c8cc6d1ee",
   "metadata": {},
   "outputs": [],
   "source": [
    "# SOURCE é aonde estão os arquivos em TXT\n",
    "# OUT é para onde irá gravar os MP3\n",
    "# exemplo: path_source = r'F:\\_ESTUDOS PARTICULARES\\Divinismo\\_gtts_OMensageiroDeKassapa\\OUTPUT'\n",
    "# exemplo: path_out = r'F:\\_ESTUDOS PARTICULARES\\Divinismo\\_gtts_OMensageiroDeKassapa\\MP3'\n",
    "\n",
    "path_source = \n",
    "path_out = \n",
    "count = 0\n",
    "\n",
    "for i in list_full:\n",
    "    print('INI --> ',i, ' @ ', datetime.now().strftime(\"%d/%m/%Y %H:%M:%S\"))\n",
    "    try:\n",
    "        with open(path_source+'\\\\'+i, encoding='utf-8') as f:\n",
    "            contents = f.read()\n",
    "            contents = contents.lower()\n",
    "    except:\n",
    "        with open(path_source+'\\\\'+i) as f:\n",
    "            contents = f.read()\n",
    "            contents = contents.lower()    \n",
    "    tts = gTTS(text=contents, tld='com', lang=list_full[count].lower().split(\"_\")[0],slow=False)\n",
    "    tts.save(path_out+'\\\\'+list_full[count].lower().split(\".\")[0]+'.mp3')\n",
    "    print('FIM --> ',i, ' @ ', datetime.now().strftime(\"%d/%m/%Y %H:%M:%S\"),'\\n')\n",
    "    time.sleep(700)\n",
    "    count=count+1"
   ]
  },
  {
   "cell_type": "code",
   "execution_count": null,
   "id": "e123542e-0727-4d6f-9d90-1e0948b7edff",
   "metadata": {},
   "outputs": [],
   "source": [
    "# listagem das línguas convertidas e gravadas em MP3 (pegar o endereço que vc gravou acima os MP3)\n",
    "arr = os.listdir()\n",
    "list_mp3 =[]\n",
    "for x in arr:\n",
    "    list_mp3.append(x.upper().split(\"_\")[0])\n",
    "list_mp3 = list(set(list_mp3))\n",
    "list_mp3.sort()"
   ]
  },
  {
   "cell_type": "markdown",
   "id": "e0400943-bd71-4bc3-a46c-898483e77297",
   "metadata": {},
   "source": [
    "# SEXTA PARTE: EN para TXT das linguas SIMBÓLICAS"
   ]
  },
  {
   "cell_type": "code",
   "execution_count": null,
   "id": "356394fa-557a-4af4-9b53-a40c020424d0",
   "metadata": {},
   "outputs": [],
   "source": [
    "dic_linguas_simb={'Amárico':'am','Árabe':'ar','Azerbaijano':'az','Bielorrusso':'be', 'Búlgaro':'bg','Bengali':'bn','Grego':'el','Esperanto':'eo',\n",
    "                  'Persa':'fa','Guzerate':'gu','Havaiano':'haw', 'Hebraico':'he', 'Hindi':'hi', 'Armênio':'hy', 'Japonês':'ja','Georgiano':'ka'\n",
    "                  ,'Cazaque':'kk','Cmer':'km','Canará':'kn','Coreano':'ko','Curdo':'ku','Quirguiz':'ky','Laosiano':'lo','Lituano':'lt','Letão':'lv','Macedônio':'mk'\n",
    "                  ,'Malaiala':'ml','Mongol':'mn','Marata':'mr','Maltês':'mt','Myanmar':'my','Nepalês':'ne','Oriá':'or','Punjabi':'pa','Polonês':'pl','Pashto':'ps'\n",
    "                  ,'Romeno':'ro','Russo':'ru','Sindi':'sd','Sinhala':'si','Sérvio':'sr','Tâmil':'ta','Telugu':'te','Tajique':'tg','Tailandês':'th','Uyghur':'ug'\n",
    "                  ,'Ucraniano':'uk','Urdu':'ur','Vietnamita':'vi','Ídiche':'yi','Iorubá':'yo','Chinês':'zh-CN','Chinês (tradicional)':'zh-TW','Húngaro':'hu','Samoano':'sm'\n",
    "                  ,'Esloveno':'sl','Eslovaco':'sk','Croata':'hr','Turco':'tr','Igbo':'ig','Hauçá':'ha','Bósnio':'bs','Tcheco':'cs','Sesoto':'st'}"
   ]
  },
  {
   "cell_type": "code",
   "execution_count": null,
   "id": "621e8613-2985-4eb6-8a98-8f2478f1c822",
   "metadata": {},
   "outputs": [],
   "source": [
    "# capítulos em inglês a serem convertidos de INGLES para outras linguas (nome dos TXT que estão com os capítulos em inglês)\n",
    "capsEN = []"
   ]
  },
  {
   "cell_type": "code",
   "execution_count": null,
   "id": "d2a62407-30a8-4154-8a4e-7115362f9fe8",
   "metadata": {
    "tags": []
   },
   "outputs": [],
   "source": [
    "%%time\n",
    "# conversor de EN em txt para línguas não simbólicas em TXT\n",
    "path_source = \n",
    "path_out = \n",
    "for key in dic_linguas_simb:\n",
    "    try:\n",
    "        for i in capsEN:\n",
    "            print('INI: ',i, ' @ ', datetime.now().strftime(\"%d/%m/%Y %H:%M:%S\"))\n",
    "            #with open(path_source+'\\\\'+i+'.txt' , encoding = 'utf-8') as f:\n",
    "            with open(path_source+'\\\\'+i+'.txt') as f:                \n",
    "                contents = f.read()\n",
    "                contents = contents.lower()\n",
    "#                print(contents)\n",
    "                lista_suporte = contents.split(sep=\".\")\n",
    "                lista_suporte = [i.replace('\\n', '') for i in lista_suporte]\n",
    "#                print(lista_suporte[0:2])\n",
    "                y = []\n",
    "                for x in range(0,len(lista_suporte)):\n",
    "                    try:\n",
    "                        var = translator.translate(text=lista_suporte[x], src='en', dest=dic_linguas_simb[key]).text\n",
    "                        var = str(var)\n",
    "                        y.append(var)\n",
    "                        y.append(\".\")\n",
    "#                        print(y)\n",
    "                    except:\n",
    "                        pass\n",
    "                file = open(path_out+'\\\\'+(dic_linguas_simb[key]).upper()+i[2:]+'.txt','w' ,encoding='utf8')\n",
    "                for ii in range(0,len(y)):\n",
    "                    file.write(y[ii] +'\\n')\n",
    "                file.close()\n",
    "                print(key + \" \" + dic_linguas_simb[key].upper() + \"feito.\")\n",
    "    except:\n",
    "        print(key + \" \" + dic_linguas_simb[key].upper() + \" NOP!!!!\")\n",
    "        pass"
   ]
  },
  {
   "cell_type": "markdown",
   "id": "ace26c11-65a0-4732-9d96-af7526cbfe84",
   "metadata": {},
   "source": [
    "# SÉTIMA PARTE: EN para MP# das linguas SIMBÓLICAS"
   ]
  },
  {
   "cell_type": "code",
   "execution_count": null,
   "id": "caea8962-f0e7-4f5d-a3c8-634eb6c335e0",
   "metadata": {},
   "outputs": [],
   "source": [
    "# listagem das línguas convertidas e gravadas\n",
    "arr = os.listdir()\n",
    "list_full =[]\n",
    "for x in arr:\n",
    "    list_full.append(x)\n",
    "list_full = list(set(list_full))\n",
    "list_full.sort()"
   ]
  },
  {
   "cell_type": "code",
   "execution_count": null,
   "id": "89a0e1fe-f4cd-4f68-a53d-498ccb2b2b00",
   "metadata": {
    "tags": []
   },
   "outputs": [],
   "source": [
    "path_source = \n",
    "path_out = \n",
    "count = 0\n",
    "\n",
    "for i in list_full:\n",
    "    print('INI --> ',i, ' @ ', datetime.now().strftime(\"%d/%m/%Y %H:%M:%S\"))\n",
    "    try:\n",
    "        with open(path_source+'\\\\'+i, encoding='utf-8') as f:\n",
    "            contents = f.read()\n",
    "            contents = contents.lower()\n",
    "    except:\n",
    "        with open(path_source+'\\\\'+i) as f:\n",
    "            contents = f.read()\n",
    "            contents = contents.lower()    \n",
    "    tts = gTTS(text=contents, tld='com', lang=list_full[count].lower().split(\"_\")[0],slow=False)\n",
    "    tts.save(path_out+'\\\\'+list_full[count].lower().split(\".\")[0]+'.mp3')\n",
    "    print('FIM --> ',i, ' @ ', datetime.now().strftime(\"%d/%m/%Y %H:%M:%S\"),'\\n')\n",
    "    time.sleep(700)\n",
    "    count=count+1"
   ]
  },
  {
   "cell_type": "code",
   "execution_count": null,
   "id": "3472d91a-39af-457b-bfc7-c2c6f6652f5e",
   "metadata": {},
   "outputs": [],
   "source": [
    "# listagem das línguas convertidas e gravadas\n",
    "arr = os.listdir('')\n",
    "list_mp3 =[]\n",
    "for x in arr:\n",
    "    list_mp3.append(x.upper().split(\"_\")[0])\n",
    "list_mp3 = list(set(list_mp3))\n",
    "list_mp3.sort()"
   ]
  },
  {
   "cell_type": "code",
   "execution_count": null,
   "id": "41dfe649-48d1-41a2-b644-22a8c8087755",
   "metadata": {},
   "outputs": [],
   "source": []
  }
 ],
 "metadata": {
  "kernelspec": {
   "display_name": "Python 3 (ipykernel)",
   "language": "python",
   "name": "python3"
  },
  "language_info": {
   "codemirror_mode": {
    "name": "ipython",
    "version": 3
   },
   "file_extension": ".py",
   "mimetype": "text/x-python",
   "name": "python",
   "nbconvert_exporter": "python",
   "pygments_lexer": "ipython3",
   "version": "3.9.7"
  }
 },
 "nbformat": 4,
 "nbformat_minor": 5
}
