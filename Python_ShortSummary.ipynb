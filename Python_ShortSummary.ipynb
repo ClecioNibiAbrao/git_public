{
 "cells": [
  {
   "cell_type": "markdown",
   "metadata": {},
   "source": [
    "# Python techniques"
   ]
  },
  {
   "cell_type": "markdown",
   "metadata": {},
   "source": [
    "### DATETIME OPERATIONS"
   ]
  },
  {
   "cell_type": "code",
   "execution_count": 4,
   "metadata": {},
   "outputs": [
    {
     "name": "stdout",
     "output_type": "stream",
     "text": [
      "05-13-2019\n",
      "14:33:46\n"
     ]
    }
   ],
   "source": [
    "from datetime import datetime\n",
    "now = datetime.now()\n",
    "now.year\n",
    "now.month\n",
    "now.day\n",
    "now.hour\n",
    "now.minute\n",
    "now.second\n",
    "\n",
    "#format mm-dd-yyyy\t\n",
    "print ('%02d-%02d-%04d' % (now.month, now.day, now.year))\n",
    "#format hh:mm:ss\t\n",
    "print ('%02d:%02d:%02d' % (now.hour, now.minute, now.second))"
   ]
  },
  {
   "cell_type": "markdown",
   "metadata": {},
   "source": [
    "### STRINGS HANDLING"
   ]
  },
  {
   "cell_type": "code",
   "execution_count": 5,
   "metadata": {},
   "outputs": [
    {
     "name": "stdout",
     "output_type": "stream",
     "text": [
      "c n abcdef123\n"
     ]
    }
   ],
   "source": [
    "c = \"cats\"[0] #set first algarism\n",
    "n = \"Ryan\"[3] #set forth algarism\n",
    "z = 'abc' + 'def' + str(123)\n",
    "print(c, n, z)\n"
   ]
  },
  {
   "cell_type": "markdown",
   "metadata": {},
   "source": [
    "### DICTIONARIES"
   ]
  },
  {
   "cell_type": "code",
   "execution_count": 8,
   "metadata": {},
   "outputs": [
    {
     "name": "stdout",
     "output_type": "stream",
     "text": [
      "2\n",
      "{'key1': 11, 'key2': 2, 'key3': 3}\n",
      "{'key1': 11, 'key2': 2}\n"
     ]
    }
   ],
   "source": [
    "dic = {'key1' : 1, 'key2' : 2, 'key3' : 3}\n",
    "\n",
    "print( dic['key2']) #brings 2\n",
    "dic['key1'] = 11 # change 1 value to 11\n",
    "\n",
    "print(dic)\n",
    "\n",
    "del dic['key3'] # removes 3rd item\n",
    "print(dic)\n"
   ]
  },
  {
   "cell_type": "code",
   "execution_count": 13,
   "metadata": {},
   "outputs": [
    {
     "name": "stdout",
     "output_type": "stream",
     "text": [
      "banana\n",
      "Prices banana: 4\n",
      "Stock banana: 6\n",
      "apple\n",
      "Prices apple: 2\n",
      "Stock apple: 0\n"
     ]
    }
   ],
   "source": [
    "prices = {\"banana\": 4,\"apple\": 2}\n",
    "stock = {\"banana\": 6, \"apple\": 0}\n",
    "for key in prices:\n",
    "  print(key)\n",
    "  print(\"Prices %s: %s\" % (key,prices[key]))\n",
    "  print(\"Stock %s: %s\" % (key,stock[key]))"
   ]
  },
  {
   "cell_type": "markdown",
   "metadata": {},
   "source": [
    "### LISTS HANDLING"
   ]
  },
  {
   "cell_type": "code",
   "execution_count": 18,
   "metadata": {},
   "outputs": [],
   "source": [
    "NUM=['i1', 'i2', 'i3', 'i4', 'i5', 'i6']"
   ]
  },
  {
   "cell_type": "code",
   "execution_count": 19,
   "metadata": {},
   "outputs": [
    {
     "data": {
      "text/plain": [
       "'i2'"
      ]
     },
     "execution_count": 19,
     "metadata": {},
     "output_type": "execute_result"
    }
   ],
   "source": [
    "NUM[1] #return i2"
   ]
  },
  {
   "cell_type": "code",
   "execution_count": 24,
   "metadata": {},
   "outputs": [
    {
     "data": {
      "text/plain": [
       "['i1', 'i2', 'i3', 'i4', 'i5', 'i6', 'iNEW']"
      ]
     },
     "execution_count": 24,
     "metadata": {},
     "output_type": "execute_result"
    }
   ],
   "source": [
    "NUM.append(\"iNEW\") \t#appends iNEW to the end\n",
    "NUM"
   ]
  },
  {
   "cell_type": "code",
   "execution_count": 26,
   "metadata": {},
   "outputs": [
    {
     "data": {
      "text/plain": [
       "['i2']"
      ]
     },
     "execution_count": 26,
     "metadata": {},
     "output_type": "execute_result"
    }
   ],
   "source": [
    "slice1 = NUM[1:2] \t#returns i2\n",
    "slice1"
   ]
  },
  {
   "cell_type": "code",
   "execution_count": 27,
   "metadata": {},
   "outputs": [
    {
     "data": {
      "text/plain": [
       "['i3', 'i4']"
      ]
     },
     "execution_count": 27,
     "metadata": {},
     "output_type": "execute_result"
    }
   ],
   "source": [
    "slice2 = NUM[2:4] \t#returns i3,i4\n",
    "slice2"
   ]
  },
  {
   "cell_type": "code",
   "execution_count": 29,
   "metadata": {},
   "outputs": [
    {
     "data": {
      "text/plain": [
       "['i4']"
      ]
     },
     "execution_count": 29,
     "metadata": {},
     "output_type": "execute_result"
    }
   ],
   "source": [
    "slice3 = NUM[3:4] \t#returns i4 due to it take not the last object\n",
    "slice3"
   ]
  },
  {
   "cell_type": "code",
   "execution_count": 30,
   "metadata": {},
   "outputs": [
    {
     "data": {
      "text/plain": [
       "['i4', 'i5', 'i6', 'iNEW']"
      ]
     },
     "execution_count": 30,
     "metadata": {},
     "output_type": "execute_result"
    }
   ],
   "source": [
    "slice4 = NUM[3:] \t#returns everything from the forth position to the end\n",
    "slice4"
   ]
  },
  {
   "cell_type": "code",
   "execution_count": 31,
   "metadata": {},
   "outputs": [
    {
     "data": {
      "text/plain": [
       "['i1', 'i2']"
      ]
     },
     "execution_count": 31,
     "metadata": {},
     "output_type": "execute_result"
    }
   ],
   "source": [
    "slice5 = NUM[:2] \t#returns everything until the second position (obs: it starts at 0)\n",
    "slice5"
   ]
  },
  {
   "cell_type": "code",
   "execution_count": 33,
   "metadata": {},
   "outputs": [
    {
     "name": "stdout",
     "output_type": "stream",
     "text": [
      "1\n"
     ]
    }
   ],
   "source": [
    "print(NUM.index('i2')) #returns the position where 'i2' is located"
   ]
  },
  {
   "cell_type": "code",
   "execution_count": 34,
   "metadata": {},
   "outputs": [
    {
     "data": {
      "text/plain": [
       "['i1', 'i2', 'i3', 'i10', 'i4', 'i5', 'i6', 'iNEW']"
      ]
     },
     "execution_count": 34,
     "metadata": {},
     "output_type": "execute_result"
    }
   ],
   "source": [
    "NUM.insert(3, 'i10') #insert at the forth position a new object\n",
    "NUM"
   ]
  },
  {
   "cell_type": "code",
   "execution_count": 35,
   "metadata": {},
   "outputs": [
    {
     "data": {
      "text/plain": [
       "['i1', 'i2', 'i3', 'i10', 'i4', 'i5', 'iNEW']"
      ]
     },
     "execution_count": 35,
     "metadata": {},
     "output_type": "execute_result"
    }
   ],
   "source": [
    "NUM.pop(6) # removes the seventh position\n",
    "NUM"
   ]
  },
  {
   "cell_type": "code",
   "execution_count": 36,
   "metadata": {},
   "outputs": [
    {
     "data": {
      "text/plain": [
       "['i1', 'i10', 'i2', 'i3', 'i4', 'i5', 'iNEW']"
      ]
     },
     "execution_count": 36,
     "metadata": {},
     "output_type": "execute_result"
    }
   ],
   "source": [
    "NUM.sort() #put it into crescent order\n",
    "NUM"
   ]
  },
  {
   "cell_type": "code",
   "execution_count": 37,
   "metadata": {},
   "outputs": [
    {
     "data": {
      "text/plain": [
       "['iNEW', 'i5', 'i4', 'i3', 'i2', 'i10', 'i1']"
      ]
     },
     "execution_count": 37,
     "metadata": {},
     "output_type": "execute_result"
    }
   ],
   "source": [
    "NUM.sort(reverse=True) #put it into decrescent order\n",
    "NUM"
   ]
  },
  {
   "cell_type": "code",
   "execution_count": null,
   "metadata": {},
   "outputs": [],
   "source": [
    "#this example was a single vector that had to be cut when the 'block' has ended\n",
    "\n",
    "    #lineList = [line.rstrip('\\n') for line in open(arquivo, encoding = 'latin1')]\n",
    "\n",
    "#then to follow the pattern of the file, when creating DataFrame in Pandas, had to reset index to fit in the same line\n",
    "\n",
    "#a = blocos[0::10].str.split(expand=True).reset_index()\n",
    "#b = blocos[1::10].str.split(expand=True).reset_index()"
   ]
  },
  {
   "cell_type": "code",
   "execution_count": null,
   "metadata": {},
   "outputs": [],
   "source": []
  },
  {
   "cell_type": "code",
   "execution_count": null,
   "metadata": {},
   "outputs": [],
   "source": []
  },
  {
   "cell_type": "code",
   "execution_count": null,
   "metadata": {},
   "outputs": [],
   "source": []
  },
  {
   "cell_type": "markdown",
   "metadata": {},
   "source": [
    "### FUNCTIONS PRATICAL EXAMPLES"
   ]
  },
  {
   "cell_type": "code",
   "execution_count": 39,
   "metadata": {},
   "outputs": [
    {
     "name": "stdout",
     "output_type": "stream",
     "text": [
      "31\n"
     ]
    }
   ],
   "source": [
    "def sum(numbers):\n",
    "  total = 0\n",
    "  for number in numbers:\n",
    "    total += number\n",
    "  return total\n",
    "\n",
    "\n",
    "n = [1, 2, 5, 10, 13]\n",
    "print(sum(n))"
   ]
  },
  {
   "cell_type": "code",
   "execution_count": 42,
   "metadata": {},
   "outputs": [
    {
     "name": "stdout",
     "output_type": "stream",
     "text": [
      "lower than 3\n"
     ]
    }
   ],
   "source": [
    "def conditions(y):\n",
    "  if y > 10:\n",
    "    return 'bigger than 10'\n",
    "  elif y >= 3:\n",
    "    return 'between 3 and 10'\n",
    "  else:\n",
    "    return 'lower than 3'\n",
    "\n",
    "\n",
    "print(conditions(2))"
   ]
  },
  {
   "cell_type": "code",
   "execution_count": 45,
   "metadata": {},
   "outputs": [
    {
     "name": "stdout",
     "output_type": "stream",
     "text": [
      "108.0\n"
     ]
    }
   ],
   "source": [
    "def tax(y):\n",
    "  y *= 1.08  \n",
    "  return y\n",
    "\n",
    "\n",
    "cost = 100\n",
    "TotalCost = tax(cost)\n",
    "print(TotalCost)"
   ]
  },
  {
   "cell_type": "code",
   "execution_count": 47,
   "metadata": {},
   "outputs": [
    {
     "name": "stdout",
     "output_type": "stream",
     "text": [
      "18\n"
     ]
    }
   ],
   "source": [
    "def add_function(x,y):\n",
    "    return x+y\n",
    "\n",
    "\n",
    "m = 5\n",
    "n = 13\n",
    "print(add_function(m, n))"
   ]
  },
  {
   "cell_type": "code",
   "execution_count": 52,
   "metadata": {},
   "outputs": [
    {
     "name": "stdout",
     "output_type": "stream",
     "text": [
      "6\n"
     ]
    },
    {
     "data": {
      "text/plain": [
       "6"
      ]
     },
     "execution_count": 52,
     "metadata": {},
     "output_type": "execute_result"
    }
   ],
   "source": [
    "def func(list):\n",
    "  print(max(list))\n",
    "  return max(list)\n",
    "\n",
    "XZ=[1, 2, 4, 6]\n",
    "func(XZ)"
   ]
  },
  {
   "cell_type": "code",
   "execution_count": 62,
   "metadata": {},
   "outputs": [
    {
     "name": "stdout",
     "output_type": "stream",
     "text": [
      "4\n",
      "3\n"
     ]
    }
   ],
   "source": [
    "def X(n):\n",
    "  return n+3\n",
    "def Y(z):\n",
    "  return X(z)+0\n",
    "\n",
    "print(X(1))\n",
    "print(Y(0))"
   ]
  },
  {
   "cell_type": "code",
   "execution_count": 63,
   "metadata": {},
   "outputs": [
    {
     "name": "stdout",
     "output_type": "stream",
     "text": [
      "3\n"
     ]
    }
   ],
   "source": [
    "def count_small(numbers):\n",
    "  total = 0\n",
    "  for n in numbers:\n",
    "    if n < 10:\n",
    "      total = total + 1\n",
    "  return total\n",
    "\n",
    "\n",
    "n = [1, 2, 5, 10, 13]\n",
    "print(count_small(n))"
   ]
  },
  {
   "cell_type": "code",
   "execution_count": 65,
   "metadata": {},
   "outputs": [
    {
     "name": "stdout",
     "output_type": "stream",
     "text": [
      "[3, 8, 7]\n"
     ]
    }
   ],
   "source": [
    "def list_function(x):\n",
    "    x[1] = x[1] + 3\n",
    "    return x\n",
    "\n",
    "\n",
    "n = [3, 5, 7]\n",
    "print(list_function(n)) #only changes the second object"
   ]
  },
  {
   "cell_type": "code",
   "execution_count": 66,
   "metadata": {},
   "outputs": [
    {
     "name": "stdout",
     "output_type": "stream",
     "text": [
      "[3, 5, 7, 9]\n"
     ]
    }
   ],
   "source": [
    "def list_extender(lst):\n",
    "    lst.append(9)\n",
    "    return lst\n",
    "\n",
    "\n",
    "n = [3, 5, 7]\n",
    "print(list_extender(n))"
   ]
  },
  {
   "cell_type": "code",
   "execution_count": 76,
   "metadata": {},
   "outputs": [
    {
     "name": "stdout",
     "output_type": "stream",
     "text": [
      "3\n",
      "5\n",
      "7\n",
      "None \n",
      "\n",
      "3\n",
      "5\n",
      "7\n"
     ]
    }
   ],
   "source": [
    "def print_list(x):\n",
    "    for i in range(0, len(x)):\n",
    "        print(x[i])\n",
    "\n",
    "\n",
    "n = [3, 5, 7]\n",
    "print(print_list(n), '\\n')\n",
    "print_list(n)"
   ]
  },
  {
   "cell_type": "code",
   "execution_count": 81,
   "metadata": {},
   "outputs": [],
   "source": [
    "#def my_function(x):\n",
    "#  for i in range(0, len(x)):\n",
    "#    x[i] = x[i]\n",
    "#  return x\n",
    "\n",
    "\n",
    "#print(my_function(range(1,4)))"
   ]
  },
  {
   "cell_type": "code",
   "execution_count": 84,
   "metadata": {},
   "outputs": [
    {
     "name": "stdout",
     "output_type": "stream",
     "text": [
      "HelloFriend\n"
     ]
    }
   ],
   "source": [
    "def join_strings(words):\n",
    "    result = \"\"\n",
    "    for w in range(len(words)):\n",
    "        result += words[w]\n",
    "    return result\n",
    "\n",
    "\n",
    "n = [\"Hello\", \"Friend\"]\n",
    "print(join_strings(n))"
   ]
  },
  {
   "cell_type": "code",
   "execution_count": 86,
   "metadata": {},
   "outputs": [
    {
     "name": "stdout",
     "output_type": "stream",
     "text": [
      "[1, 2, 3, 4, 5, 6, 7, 8, 9]\n"
     ]
    }
   ],
   "source": [
    "def flatten(lists):\n",
    "  result = []\n",
    "  for numbers in lists:\n",
    "    for i in numbers:\n",
    "      result.append(i)\n",
    "  return result\n",
    "\n",
    "\n",
    "n = [[1, 2, 3], [4, 5, 6, 7, 8, 9]]\n",
    "print(flatten(n))"
   ]
  },
  {
   "cell_type": "code",
   "execution_count": 99,
   "metadata": {},
   "outputs": [
    {
     "name": "stdout",
     "output_type": "stream",
     "text": [
      "0\n",
      "1\n",
      "2\n",
      "3\n",
      "4\n"
     ]
    }
   ],
   "source": [
    "count = 0\n",
    "while True:\n",
    "    print(count)\n",
    "    count += 1\n",
    "    if count >= 5:\n",
    "        break"
   ]
  },
  {
   "cell_type": "code",
   "execution_count": 100,
   "metadata": {},
   "outputs": [
    {
     "name": "stdout",
     "output_type": "stream",
     "text": [
      "T\n",
      "W\n",
      "O\n"
     ]
    }
   ],
   "source": [
    "word = \"TWO\"\n",
    "for char in word:\n",
    "    print(char,)"
   ]
  },
  {
   "cell_type": "code",
   "execution_count": 104,
   "metadata": {},
   "outputs": [
    {
     "name": "stdout",
     "output_type": "stream",
     "text": [
      "3\n",
      "9\n",
      "17\n",
      "15\n",
      "30\n"
     ]
    }
   ],
   "source": [
    "list_a = [3, 9, 17, 15, 19]\n",
    "list_b = [2, 4, 8, 10, 30, 40, 50, 60, 70, 80, 90]\n",
    "for a, b in zip(list_a, list_b):\n",
    "    print(max(a,b))"
   ]
  },
  {
   "cell_type": "code",
   "execution_count": 106,
   "metadata": {},
   "outputs": [
    {
     "name": "stdout",
     "output_type": "stream",
     "text": [
      "True\n",
      "False\n"
     ]
    }
   ],
   "source": [
    "#absolute test\n",
    "\n",
    "def is_int(x):\n",
    "    absolute = abs(x)\n",
    "    rounded = round(absolute)\n",
    "    return absolute - rounded == 0\n",
    "\n",
    "\n",
    "print(is_int(10))\n",
    "print(is_int(10.5))"
   ]
  },
  {
   "cell_type": "code",
   "execution_count": 113,
   "metadata": {},
   "outputs": [
    {
     "name": "stdout",
     "output_type": "stream",
     "text": [
      "21\n"
     ]
    }
   ],
   "source": [
    "# sum of the positive integers numbers\n",
    "\n",
    "def digit_sum(n):\n",
    "    total = 0\n",
    "    strN = str(n)\n",
    "    for char in strN:\n",
    "        total += int(char)\n",
    "    return total\n",
    "\n",
    "\n",
    "print(digit_sum(123456))"
   ]
  },
  {
   "cell_type": "code",
   "execution_count": 115,
   "metadata": {},
   "outputs": [
    {
     "name": "stdout",
     "output_type": "stream",
     "text": [
      "120\n"
     ]
    }
   ],
   "source": [
    "# number's factorial\n",
    "\n",
    "def factorial(x):\n",
    "    total = 1\n",
    "    while x>0:\n",
    "        total *= x\n",
    "        x-=1\n",
    "    return total\n",
    "\n",
    "\n",
    "print(factorial(5))"
   ]
  },
  {
   "cell_type": "code",
   "execution_count": 117,
   "metadata": {},
   "outputs": [
    {
     "name": "stdout",
     "output_type": "stream",
     "text": [
      "True\n",
      "False\n"
     ]
    }
   ],
   "source": [
    "# cousing numbers\n",
    "\n",
    "def is_prime(x):\n",
    "    if x < 2:\n",
    "        return False\n",
    "    else:\n",
    "        for n in range(2, x-1):\n",
    "            if x % n == 0:\n",
    "                return False\n",
    "        return True\n",
    "\n",
    "\n",
    "print(is_prime(13))\n",
    "print(is_prime(10))"
   ]
  },
  {
   "cell_type": "code",
   "execution_count": 119,
   "metadata": {},
   "outputs": [
    {
     "name": "stdout",
     "output_type": "stream",
     "text": [
      "LIZARB\n"
     ]
    }
   ],
   "source": [
    "# reverse of a string\n",
    "\n",
    "def reverse(texto):\n",
    "  palavra = \"\"\n",
    "  letras = len(texto) - 1\n",
    "  while letras >= 0:\n",
    "    palavra = palavra + texto[letras]\n",
    "    letras -=1\n",
    "  return palavra\n",
    "\n",
    "\n",
    "print(reverse('BRAZIL'))"
   ]
  },
  {
   "cell_type": "code",
   "execution_count": 136,
   "metadata": {},
   "outputs": [
    {
     "name": "stdout",
     "output_type": "stream",
     "text": [
      "ppg\n"
     ]
    }
   ],
   "source": [
    "# exclude vogals\n",
    "\n",
    "def anti_vowel(text):\n",
    "    palavra = \"\"\n",
    "    vogais = \"aeiouAEIOU\"\n",
    "    for char in text:\n",
    "        if char not in vogais:\n",
    "            palavra += char\n",
    "    return palavra\n",
    "\n",
    "\n",
    "print(anti_vowel('papagaio'))"
   ]
  },
  {
   "cell_type": "code",
   "execution_count": 144,
   "metadata": {},
   "outputs": [
    {
     "name": "stdout",
     "output_type": "stream",
     "text": [
      "5\n"
     ]
    }
   ],
   "source": [
    "# dictionaries value's sums\n",
    "\n",
    "score = {'a': 1, 'c': 3, 'b': 3, 'i': 4}\n",
    "def scrabble_score(word):\n",
    "    word = word.lower()\n",
    "    total = 0\n",
    "    for letter in word:\n",
    "        for leter in score:\n",
    "            if letter == leter:\n",
    "                total = total + score[leter]\n",
    "    return total\n",
    "\n",
    "    \n",
    "print(scrabble_score(\"pizza\"))"
   ]
  },
  {
   "cell_type": "code",
   "execution_count": 150,
   "metadata": {},
   "outputs": [
    {
     "name": "stdout",
     "output_type": "stream",
     "text": [
      "this hack ** wack hack\n"
     ]
    }
   ],
   "source": [
    "# exclude a word from a text\n",
    "\n",
    "def censor(text, word):\n",
    "    words = text.split()\n",
    "    result = ''\n",
    "    stars = '*' * len(word)\n",
    "    count = 0\n",
    "    for i in words:\n",
    "        if i == word:\n",
    "            words[count] = stars\n",
    "        count += 1\n",
    "    result =' '.join(words)\n",
    "    return result\n",
    "\n",
    "\n",
    "phrase='this hack is wack hack'\n",
    "WordToExclude='is'\n",
    "print(censor(phrase, WordToExclude))"
   ]
  },
  {
   "cell_type": "code",
   "execution_count": 159,
   "metadata": {},
   "outputs": [
    {
     "name": "stdout",
     "output_type": "stream",
     "text": [
      "6\n"
     ]
    }
   ],
   "source": [
    "# list's item to count\n",
    "\n",
    "def count(sequence, item):\n",
    "    count = 0\n",
    "    for i in sequence:\n",
    "        if i == item:\n",
    "            count += 1\n",
    "    return count\n",
    "\n",
    "\n",
    "lista=[1, 2, 1, 1,4,2,6,1,8,3,6,3,1,1]\n",
    "WhatTo=1\n",
    "print(count(lista, WhatTo))"
   ]
  },
  {
   "cell_type": "code",
   "execution_count": 164,
   "metadata": {},
   "outputs": [
    {
     "name": "stdout",
     "output_type": "stream",
     "text": [
      "[2, 4, 6, 8, 10]\n"
     ]
    }
   ],
   "source": [
    "# display of evens\n",
    "\n",
    "def purify(lista):\n",
    "    NovaLista = []\n",
    "    for i in lista:\n",
    "        if i%2 == 0:\n",
    "            NovaLista.append(i)\n",
    "    return NovaLista\n",
    "\n",
    "\n",
    "lista=[1,2,3,4,5,6,7,8,9,10,11]\n",
    "print(purify(lista))"
   ]
  },
  {
   "cell_type": "code",
   "execution_count": 166,
   "metadata": {},
   "outputs": [
    {
     "name": "stdout",
     "output_type": "stream",
     "text": [
      "120\n"
     ]
    }
   ],
   "source": [
    "# list's product\n",
    "\n",
    "def product(lista):\n",
    "    total = 1\n",
    "    for num in lista:\n",
    "        total = total * num\n",
    "    return total\n",
    "\n",
    "\n",
    "lista=[1,2,3,4,5]\n",
    "print(product(lista))"
   ]
  },
  {
   "cell_type": "code",
   "execution_count": 168,
   "metadata": {},
   "outputs": [
    {
     "name": "stdout",
     "output_type": "stream",
     "text": [
      "[1, 2, 3, 4, 5, 7, 9]\n"
     ]
    }
   ],
   "source": [
    "# removing duplicates \n",
    "\n",
    "def remove_duplicates(inputlist):\n",
    "    if inputlist == []:\n",
    "        return []    \n",
    "    inputlist = sorted(inputlist)     # Sort the input list from low to high   \n",
    "    outputlist = [inputlist[0]]     # Initialize the output list with 1st sorted value\n",
    "    for i in inputlist:    # append to the output list any values > last value\n",
    "        if i > outputlist[-1]:\n",
    "            outputlist.append(i)        \n",
    "    return outputlist\n",
    "\n",
    "\n",
    "lista=[1,2,3,4,5,3,7,2,9,4,5]\n",
    "print(remove_duplicates(lista))"
   ]
  },
  {
   "cell_type": "code",
   "execution_count": 170,
   "metadata": {},
   "outputs": [
    {
     "name": "stdout",
     "output_type": "stream",
     "text": [
      "4\n"
     ]
    }
   ],
   "source": [
    "# takes the median\n",
    "\n",
    "def median(lst):\n",
    "    sorted_list = sorted(lst)\n",
    "    if len(sorted_list) % 2 != 0: #odd number of elements\n",
    "        index = len(sorted_list)//2 \n",
    "        return sorted_list[index]\n",
    "    \n",
    "    elif len(sorted_list) % 2 == 0: #even no. of elements\n",
    "        index_1 = len(sorted_list)/2 - 1\n",
    "        index_2 = len(sorted_list)/2\n",
    "        mean = (sorted_list[index_1] + sorted_list[index_2])/2.0\n",
    "        return mean\n",
    "\n",
    "\n",
    "lista=[1,2,3,4,5,3,7,2,9,4,5]\n",
    "print(median(lista))"
   ]
  },
  {
   "cell_type": "code",
   "execution_count": 1,
   "metadata": {},
   "outputs": [
    {
     "data": {
      "text/plain": [
       "datetime.datetime(2019, 5, 14, 0, 0)"
      ]
     },
     "execution_count": 1,
     "metadata": {},
     "output_type": "execute_result"
    }
   ],
   "source": [
    "import datetime\n",
    "x = '14.05.2019'\n",
    "some_list = x.split('.')\n",
    "y = datetime.datetime(int(some_list[2]), int(some_list[1]), int(some_list[0]))\n",
    "y"
   ]
  },
  {
   "cell_type": "code",
   "execution_count": null,
   "metadata": {},
   "outputs": [],
   "source": []
  }
 ],
 "metadata": {
  "kernelspec": {
   "display_name": "Python 3",
   "language": "python",
   "name": "python3"
  },
  "language_info": {
   "codemirror_mode": {
    "name": "ipython",
    "version": 3
   },
   "file_extension": ".py",
   "mimetype": "text/x-python",
   "name": "python",
   "nbconvert_exporter": "python",
   "pygments_lexer": "ipython3",
   "version": "3.6.8"
  }
 },
 "nbformat": 4,
 "nbformat_minor": 2
}
