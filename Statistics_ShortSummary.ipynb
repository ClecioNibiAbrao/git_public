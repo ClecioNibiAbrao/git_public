{
 "cells": [
  {
   "cell_type": "code",
   "execution_count": 1,
   "metadata": {},
   "outputs": [],
   "source": [
    "#LIBRARIES\n",
    "import matplotlib.pyplot as plt\n",
    "%matplotlib inline\n",
    "import numpy as np\n",
    "import pandas as pd\n",
    "from scipy import stats\n",
    "import seaborn as sns\n",
    "\n",
    "import warnings\n",
    "warnings.filterwarnings(\"ignore\")"
   ]
  },
  {
   "cell_type": "markdown",
   "metadata": {},
   "source": [
    "## ---------------------- CALCULATING PROBABILITY ----------------------\n",
    "E is a random 'event' in the 'sample space' Ω.<br><br>\n",
    "The probability of happening will then be:<br>        \n",
    "P(E) = n(E)/n(Ω)<br><br>\n",
    "The probability of not happening will then be:<br>    \n",
    "P(A-1) = 1 – P(A)<br>"
   ]
  },
  {
   "cell_type": "markdown",
   "metadata": {},
   "source": [
    "## Probability for head and tails"
   ]
  },
  {
   "cell_type": "code",
   "execution_count": 2,
   "metadata": {},
   "outputs": [
    {
     "name": "stdout",
     "output_type": "stream",
     "text": [
      "Average with 10 coins: [0.6]\n",
      "Average with 20 coins: [0.53333333]\n",
      "Average with 30 coins: [0.53333333]\n",
      "Average with 50 coins: [0.50909091]\n",
      "Average with 100 coins: [0.47619048]\n",
      "Average with 10000 coins: [0.50048972]\n"
     ]
    }
   ],
   "source": [
    "# 1 = head\n",
    "# 0 = tail\n",
    "launch_list = []\n",
    "for launch in [10, 20, 30, 50, 100, 10000]:\n",
    "    for num_launch in range(launch):\n",
    "        if np.random.randint(low=1, high=3) == 1:\n",
    "            launch_list.append(1)\n",
    "        else:\n",
    "            launch_list.append(0)\n",
    "\n",
    "    media_calculada = pd.DataFrame(launch_list, columns = ['coins']).mean()\n",
    "    print('Average with', launch, 'coins:', media_calculada.values)"
   ]
  },
  {
   "cell_type": "markdown",
   "metadata": {},
   "source": [
    "## Probability for dices"
   ]
  },
  {
   "cell_type": "code",
   "execution_count": 3,
   "metadata": {},
   "outputs": [
    {
     "name": "stdout",
     "output_type": "stream",
     "text": [
      "Average with 10 dices: [0.2]\n",
      "Average with 20 dices: [0.13333333]\n",
      "Average with 30 dices: [0.11666667]\n",
      "Average with 50 dices: [0.13636364]\n",
      "Average with 100 dices: [0.15238095]\n",
      "Average with 10000 dices: [0.16209598]\n"
     ]
    }
   ],
   "source": [
    "launch_list = []\n",
    "for launch in [10, 20, 30, 50, 100, 10000]:\n",
    "    for num_launch in range(launch):\n",
    "        if np.random.randint(low=1, high=7) == 1:\n",
    "            launch_list.append(1)\n",
    "        else:\n",
    "            launch_list.append(0)\n",
    "\n",
    "    media_calculada = pd.DataFrame(launch_list, columns = ['dices']).mean()\n",
    "    print('Average with', launch, 'dices:', media_calculada.values)"
   ]
  },
  {
   "cell_type": "markdown",
   "metadata": {},
   "source": [
    "# ---------------------- DISTRIBUTIONS ----------------------"
   ]
  },
  {
   "cell_type": "markdown",
   "metadata": {},
   "source": [
    "## Discrete Uniform Distributuion"
   ]
  },
  {
   "cell_type": "markdown",
   "metadata": {},
   "source": [
    "Same probability for all possible results:\n",
    "\\begin{equation*}\n",
    "P(x_i)= \\dfrac{1}{n}\n",
    "\\end{equation*}"
   ]
  },
  {
   "cell_type": "code",
   "execution_count": 4,
   "metadata": {},
   "outputs": [
    {
     "data": {
      "image/png": "[encoded data removed]",
      "text/plain": [
       "<Figure size 432x288 with 1 Axes>"
      ]
     },
     "metadata": {
      "needs_background": "light"
     },
     "output_type": "display_data"
    }
   ],
   "source": [
    "# getting dices again\n",
    "valor_min = 1\n",
    "valor_max = 6 + 1\n",
    "# number of launchs\n",
    "lançamentos = 6000\n",
    "# ramdon integer results for all launchs\n",
    "samples_uniforme = np.random.randint(low = valor_min,\n",
    "                                     high = valor_max,\n",
    "                                     size = lançamentos)\n",
    "# graphical results\n",
    "sns.distplot(samples_uniforme, axlabel = 'side of the dice', kde=False);"
   ]
  },
  {
   "cell_type": "markdown",
   "metadata": {},
   "source": [
    "## Bernoulli Distributuion"
   ]
  },
  {
   "cell_type": "markdown",
   "metadata": {},
   "source": [
    "It's a discrete distribution in sample space {0, 1} with value 1 with chance of success p and probability of failure q = 1 − p. \n",
    "The average in this distribution is always p and variance p(1-p)."
   ]
  },
  {
   "cell_type": "code",
   "execution_count": 7,
   "metadata": {},
   "outputs": [
    {
     "name": "stdout",
     "output_type": "stream",
     "text": [
      "Média Verdadeira: 0.7, Variância Verdadeira: 0.21\n",
      "\\sample: 3   average: 0.6666666666666666   var: 0.2222222222222222\n",
      "\\sample: 10   average: 0.7   var: 0.20999999999999994\n",
      "\\sample: 10000   average: 0.6964   var: 0.21142703999999998\n",
      "\\sample: 100000   average: 0.70025   var: 0.2098999375000001\n",
      "\\sample: 10000000   average: 0.6997923   var: 0.21008303686071025\n"
     ]
    }
   ],
   "source": [
    "from scipy.stats import bernoulli\n",
    "\n",
    "print('Média Verdadeira: 0.7, Variância Verdadeira: 0.21')\n",
    "for n in [3,10,10000,100000,10000000]:\n",
    "    bern = bernoulli.rvs(p=0.7, size=n)\n",
    "    print('\\sample:', n,'  average:', bern.sum()/len(bern), '  var:', bern.std()**2)    "
   ]
  },
  {
   "cell_type": "markdown",
   "metadata": {},
   "source": [
    "## Binomial Distribution"
   ]
  },
  {
   "cell_type": "markdown",
   "metadata": {},
   "source": [
    "This is the discrete probability distributionin a sequence of n tries.\n",
    "- just 02 possible outcomes (success and failure)\n",
    "- constant probability\n",
    "- each try is independent\n",
    "- the desirable output is the number of success k in n tries.\n",
    "\n",
    "\\begin{equation*}\n",
    "f(x)=  \\binom {n}{x} (p)^x (1-p)^{(n-x)}\n",
    "\\end{equation*}\n",
    "\n",
    "where **_x_** is the number of success, **_p_** is the probability of success, **_n_** is the number of tries.\n",
    "\n",
    "Note: Bernoulli is a special case of binomial distrib., when n = 1 and average is np and variance is np(1-p)."
   ]
  },
  {
   "cell_type": "code",
   "execution_count": 10,
   "metadata": {},
   "outputs": [
    {
     "data": {
      "image/png": "[encoded data removed]",
      "text/plain": [
       "<Figure size 432x288 with 1 Axes>"
      ]
     },
     "metadata": {
      "needs_background": "light"
     },
     "output_type": "display_data"
    }
   ],
   "source": [
    "# HEAD & TAILS EXPERIMENT\n",
    "# number of tries\n",
    "quantidade_ensaios = 10000\n",
    "# number of launchs per tries\n",
    "lançamentos = 8\n",
    "# probability of success\n",
    "probabilidade_sucesso = 0.5\n",
    "# binomial equation\n",
    "samples_binomial = np.random.binomial(n = lançamentos, p = probabilidade_sucesso, size = quantidade_ensaios)\n",
    "\n",
    "# plotting graph\n",
    "eixo_x = 'Number of success per try for every 8 coins launched '\n",
    "sns.distplot(samples_binomial, axlabel = eixo_x, kde = False);"
   ]
  },
  {
   "cell_type": "markdown",
   "metadata": {},
   "source": [
    "## Poisson Distribution"
   ]
  },
  {
   "cell_type": "markdown",
   "metadata": {},
   "source": [
    "This is a random probability discrete distribution that express itself as a series of events that may happen independently in a period of time (from the last event).<br>\n",
    "It's parameter is $\\lambda$ and it's always greater than zero.\n",
    "**This indicates the average number of occurrences per event in continuum unit (space or time)**.<br> \n",
    "Example: event average occurrence is 4 minutes and we would like to find out the number of events in 10 minutes... For that, Poisson distrib with λ = 10/4 = 2.5.\n",
    "\n",
    "\\begin{equation*}\n",
    "f(x)= e^{-\\lambda} \\dfrac{\\lambda^x}{x!}\n",
    "\\end{equation*}\n",
    "\n",
    "* $e$ is the natural log ($e$ = 2.71828...),\n",
    "* ! is the factorial sign,\n",
    "\n",
    "Examples:<br> \n",
    "- number of children from a couple, \n",
    "- number of clients in the morning of a store, \n",
    "- cars failure's in a given trajectory,\n",
    "- phone calls per unit of time,\n",
    "- accidents per unit of time,\n",
    "- visible blood globulus per area in the microscope,\n",
    "- radio particles emission per unit of time,\n",
    "\n",
    "Note: average and variance is given per $\\lambda$"
   ]
  },
  {
   "cell_type": "code",
   "execution_count": 11,
   "metadata": {},
   "outputs": [
    {
     "data": {
      "image/png": "[encoded data removed]",
      "text/plain": [
       "<Figure size 432x288 with 1 Axes>"
      ]
     },
     "metadata": {
      "needs_background": "light"
     },
     "output_type": "display_data"
    }
   ],
   "source": [
    "# setting the parameter of number of failures\n",
    "parametro_lambda = 1.5\n",
    "# instancing number of days\n",
    "dias_contados = 365\n",
    "# poisson fuction will return the number of failures per day\n",
    "samples_poisson = np.random.poisson(lam = parametro_lambda, size = 365)\n",
    "\n",
    "# plotting graph\n",
    "eixo_x = 'Train failures per day'\n",
    "sns.distplot(samples_poisson, axlabel = eixo_x, kde=False);"
   ]
  },
  {
   "cell_type": "markdown",
   "metadata": {},
   "source": [
    "## Exponential Distribution"
   ]
  },
  {
   "cell_type": "markdown",
   "metadata": {},
   "source": [
    "This distribution is the only one with constant failure rate. It has been used to shape the lifetime of a product and materials.\n",
    "Hence, this continuum distribution can describe the probabilities in a period for a certain event to happen.\n",
    "This one is very close to Poisson and their relationship can be associated to a stochastic process called 'Poisson Process'.\n",
    "For x >= 0:\n",
    "\n",
    "\\begin{equation*}\n",
    "f(x;\\lambda)= \\lambda e^{-\\lambda x}\n",
    "\\end{equation*}"
   ]
  },
  {
   "cell_type": "code",
   "execution_count": 14,
   "metadata": {},
   "outputs": [
    {
     "data": {
      "image/png": "[encoded data removed]",
      "text/plain": [
       "<Figure size 720x576 with 1 Axes>"
      ]
     },
     "metadata": {
      "needs_background": "light"
     },
     "output_type": "display_data"
    }
   ],
   "source": [
    "# setting the parameter of number of failures as the last example\n",
    "parametro_lambda = 1.5\n",
    "dias_contados = 365\n",
    "# poisson returns the number of failures per day and the exponential the time for the next event\n",
    "samples_exp = np.random.exponential(1/parametro_lambda, dias_contados)\n",
    "\n",
    "# plotting graph\n",
    "plt.figure(figsize=(10,8))\n",
    "sns.distplot(samples_exp);"
   ]
  },
  {
   "cell_type": "markdown",
   "metadata": {},
   "source": [
    "## Normal Distribution"
   ]
  },
  {
   "cell_type": "markdown",
   "metadata": {},
   "source": [
    "The Gaussian Distribution, or Normal Distrib., can shape lots of nature's events. Under some circumstances some distributions may behave as Normal ones due to **Central Limit Theorem**.\n",
    "\n",
    "A random variable _**X**_ is under a Normal Distribution **_X ~ N ( $\\mu$, $\\sigma$)_** if its occurrence probabilities are:\n",
    "\n",
    "\\begin{equation*}\n",
    "p(x)= \\dfrac{1}{\\sqrt{2 \\pi \\sigma^²}} e^ \\dfrac{-(x-\\mu)^2}{2 \\sigma^2}\n",
    "\\end{equation*}\n",
    "\n",
    "For a Standard Normal Distribution, the average is 0 and the standard deviation is 1 (check for Z-score)."
   ]
  },
  {
   "cell_type": "code",
   "execution_count": 16,
   "metadata": {},
   "outputs": [
    {
     "data": {
      "image/png": "[encoded data removed]",
      "text/plain": [
       "<Figure size 720x576 with 1 Axes>"
      ]
     },
     "metadata": {
      "needs_background": "light"
     },
     "output_type": "display_data"
    }
   ],
   "source": [
    "media = 342.73 # instancing average\n",
    "desvio_padrão = 45.78 # instancing standard deviation\n",
    "n_amostras = 3000 # quantity of samples in the population\n",
    "\n",
    "# calling normal distribution function\n",
    "samples_normal = np.random.normal(loc = media, scale = desvio_padrão, size = n_amostras)\n",
    "\n",
    "# plotting graph\n",
    "plt.figure(figsize=(10,8))\n",
    "sns.distplot(samples_normal, axlabel = 'weight')\n",
    "plt.show()"
   ]
  },
  {
   "cell_type": "markdown",
   "metadata": {},
   "source": [
    "# ---------------------- STATISTICAL INFERENCES ----------------------"
   ]
  },
  {
   "cell_type": "markdown",
   "metadata": {},
   "source": [
    "At first, checkout about bias, confidence interval, null and alternative hypothesis test."
   ]
  },
  {
   "cell_type": "markdown",
   "metadata": {},
   "source": [
    "### Average Test or T-Student\n",
    "For Z test we have:\n",
    "<br>\n",
    "$$z=\\frac{\\overline x-\\mu_0}{\\sigma / \\sqrt{n}}$$\n",
    "<br>\n",
    "where:\n",
    "- ${\\bar x}$ - average value of the hypothesis\n",
    "- ${\\mu_0}$ - average value of the sample\n",
    "- ${\\sigma}$ - sample's standard deviation\n",
    "- ${n}$ - size of the sample"
   ]
  },
  {
   "cell_type": "markdown",
   "metadata": {},
   "source": [
    "If we do not know the population's standard deviation, than we have to use the sample's one:\n",
    "<br>\n",
    "$$z=\\frac{\\overline x-\\mu_0}{s / \\sqrt{n}}$$\n",
    "<br>\n",
    "And the Sample's Standard Deviation will be:\n",
    "<br>\n",
    "$$s=\\sqrt{\\frac{\\sum(x_i-\\overline x)²}{n-1}}$$\n",
    "<br>"
   ]
  },
  {
   "cell_type": "markdown",
   "metadata": {},
   "source": [
    "### Testing Variance\n",
    "*Ki-Squared* with $(n-1)$ freedom degrees\n",
    "<br>\n",
    "$$\\chi^2 = \\frac{(n-1)s^2}{\\sigma_0}$$\n",
    "<br>"
   ]
  },
  {
   "cell_type": "markdown",
   "metadata": {},
   "source": [
    "### Testing proportions\n",
    "The same test of averages, but for proportions though:\n",
    "<br>\n",
    "$$z=\\frac{p\\prime-p_0}{\\sqrt{\\frac{p_0-(1-p_0)}{n}}}$$\n",
    "<br>"
   ]
  }
 ],
 "metadata": {
  "kernelspec": {
   "display_name": "Python 3",
   "language": "python",
   "name": "python3"
  },
  "language_info": {
   "codemirror_mode": {
    "name": "ipython",
    "version": 3
   },
   "file_extension": ".py",
   "mimetype": "text/x-python",
   "name": "python",
   "nbconvert_exporter": "python",
   "pygments_lexer": "ipython3",
   "version": "3.6.8"
  }
 },
 "nbformat": 4,
 "nbformat_minor": 2
}
